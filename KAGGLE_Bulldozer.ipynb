{
 "cells": [
  {
   "cell_type": "code",
   "execution_count": 9,
   "id": "featured-concert",
   "metadata": {},
   "outputs": [],
   "source": [
    "import pandas as pd\n",
    "import numpy as np\n",
    "import matplotlib.pyplot as plt\n",
    "import sklearn"
   ]
  },
  {
   "cell_type": "code",
   "execution_count": 5,
   "id": "union-treasury",
   "metadata": {},
   "outputs": [
    {
     "name": "stdout",
     "output_type": "stream",
     "text": [
      "Warning: Your Kaggle API key is readable by other users on this system! To fix this, you can run 'chmod 600 /Users/larsjuhl/.kaggle/kaggle.json'\n",
      "Downloading bluebook-for-bulldozers.zip to /Users/larsjuhl/Machine-Learning/5_Projects/KMD/Regression/BulldozerKAGGLE\n",
      " 97%|████████████████████████████████████▊ | 47.0M/48.4M [00:01<00:00, 52.2MB/s]\n",
      "100%|██████████████████████████████████████| 48.4M/48.4M [00:01<00:00, 34.5MB/s]\n"
     ]
    }
   ],
   "source": [
    "!kaggle competitions download -c bluebook-for-bulldozers"
   ]
  },
  {
   "cell_type": "code",
   "execution_count": 10,
   "id": "tough-release",
   "metadata": {},
   "outputs": [
    {
     "name": "stdout",
     "output_type": "stream",
     "text": [
      "KAGGLE_Bulldozer.ipynb \u001b[34mdata\u001b[m\u001b[m\r\n"
     ]
    }
   ],
   "source": [
    "!ls"
   ]
  },
  {
   "cell_type": "code",
   "execution_count": null,
   "id": "undefined-century",
   "metadata": {},
   "outputs": [],
   "source": []
  }
 ],
 "metadata": {
  "kernelspec": {
   "display_name": "Python 3",
   "language": "python",
   "name": "python3"
  },
  "language_info": {
   "codemirror_mode": {
    "name": "ipython",
    "version": 3
   },
   "file_extension": ".py",
   "mimetype": "text/x-python",
   "name": "python",
   "nbconvert_exporter": "python",
   "pygments_lexer": "ipython3",
   "version": "3.8.8"
  }
 },
 "nbformat": 4,
 "nbformat_minor": 5
}
